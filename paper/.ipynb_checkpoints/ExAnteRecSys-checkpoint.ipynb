{
 "cells": [
  {
   "cell_type": "code",
   "execution_count": 1,
   "metadata": {},
   "outputs": [
    {
     "name": "stdout",
     "output_type": "stream",
     "text": [
      "Once deleted, variables cannot be recovered. Proceed (y/[n])? y\n"
     ]
    },
    {
     "name": "stderr",
     "output_type": "stream",
     "text": [
      "ERROR:root:Invalid alias: The name clear can't be aliased because it is another magic command.\n",
      "ERROR:root:Invalid alias: The name more can't be aliased because it is another magic command.\n",
      "ERROR:root:Invalid alias: The name less can't be aliased because it is another magic command.\n",
      "ERROR:root:Invalid alias: The name man can't be aliased because it is another magic command.\n"
     ]
    }
   ],
   "source": [
    "%reset\n",
    "import pandas as pd\n",
    "import numpy as np\n",
    "import matplotlib.pyplot as plt\n",
    "from matplotlib.lines import Line2D\n",
    "\n",
    "import itertools\n",
    "from scipy import stats\n",
    "from scipy.stats import beta\n",
    "\n",
    "mycolor1 = [0.368417, 0.506779, 0.709798]\n",
    "mycolor2 = [0.880722, 0.611041, 0.142051]\n",
    "mycolor3 = [0.560181, 0.691569, 0.194885]\n",
    "mycolor4 = [0.922526, 0.385626, 0.209179]\n",
    "mycolor5 = [0.528488, 0.470624, 0.701351]\n",
    "mycolor6 = [0.772079, 0.431554, 0.102387]\n",
    "mycolor7 = [0.363898, 0.618501, 0.782349]\n",
    "mycolor8 = [1, 0.75, 0]\n",
    "mycolor9 = [0.647624, 0.37816, 0.614037]\n",
    "mycolor10 = [0.571589, 0.586483, 0.]"
   ]
  },
  {
   "cell_type": "code",
   "execution_count": 21,
   "metadata": {},
   "outputs": [],
   "source": [
    "sigma = 1\n",
    "sigma_i = 1\n",
    "sigma_ibar = 1\n",
    "\n",
    "rho = .5\n",
    "rho_i = 1.0\n",
    "rho_ibar = 0\n",
    "\n",
    "beta = 0\n",
    "\n",
    "N = 1000\n",
    "Nset = range(0,N)\n",
    "T = 2\n",
    "\n",
    "nr_pop = 2\n",
    "nr_ind = 2"
   ]
  },
  {
   "cell_type": "code",
   "execution_count": 22,
   "metadata": {},
   "outputs": [],
   "source": [
    "def d(i,j):\n",
    "    return min(abs(i-j), abs(j-i), abs(j-i-N), abs(i-j-N))\n",
    "\n",
    "\n",
    "def cov_mat_fun(sigm, rh, N):\n",
    "    cov_mat = np.ones((N,N))\n",
    "    for i in range(0,N):\n",
    "        for j in range(0,N):\n",
    "            cov_mat[i,j] = rh**d(i,j)\n",
    "    cov_mat = sigm * cov_mat\n",
    "    return cov_mat\n",
    "\n",
    "\n",
    "def div_fun(CiT):\n",
    "    div_score = 0\n",
    "    for i in range(len(CiT)):\n",
    "        for j in range(len(CiT)):\n",
    "            div_score = div_score + d(i,j)\n",
    "    return div_score*(T**(-2))\n",
    "\n",
    "\n",
    "def w_fun(CiT,Ui):\n",
    "    w_score = 0\n",
    "    for i in range(len(CiT)):\n",
    "        w_score = w_score + Ui[i]\n",
    "    return w_score*(T**(-1))\n",
    "\n",
    "\n",
    "def update_Ui(Cit,Ui,mu_Ui, Sigma_Ui):\n",
    "    x1 = Cit\n",
    "    x2 = [n for n in Nset if n not in Cit]\n",
    "    Nit = [n for n in Nset if n not in Cit]\n",
    "    mu1 = np.array([mu_Ui[n] for n in x1]).reshape((1,len(x1)))\n",
    "    mu2 = np.array([mu_Ui[n] for n in x2]).reshape((1,len(x2)))\n",
    "    Sigma11 = np.ones((len(x1),len(x1)))\n",
    "    Sigma22 = np.ones((len(x2),len(x2)))\n",
    "    Sigma12 = np.ones((len(x1),len(x2)))\n",
    "    for i in range(len(Cit)):\n",
    "        for j in range(len(Cit)):\n",
    "            Sigma11[i,j] = Sigma_Ui[Cit[i],Cit[j]]\n",
    "    for i in range(len(Nit)):\n",
    "        for j in range(len(Nit)):\n",
    "            Sigma22[i,j] = Sigma_Ui[Nit[i],Nit[j]]\n",
    "    for i in range(len(Cit)):\n",
    "        for j in range(len(Nit)):\n",
    "            Sigma12[i,j] = Sigma_Ui[Cit[i],Nit[j]]\n",
    "    Sigma21 = np.transpose(Sigma12)\n",
    "    a = np.array([Ui[n] for n in x1]).reshape((1,len(x1)))\n",
    "    mubar = mu2 + (np.matmul(np.matmul(Sigma21, np.linalg.inv(Sigma11)),(a-mu1).T)).T\n",
    "    mu_new = mu_Ui\n",
    "    for i in range(len(x1)):\n",
    "        mu_new[x1[i]] = mubar[0,i]\n",
    "    return mu_new\n",
    "\n",
    "\n",
    "def choice(Cit,mu):\n",
    "    x2 = [n for n in Nset if n not in Cit]\n",
    "    cit = x2[np.argmax([mu[i] for i in x2])]\n",
    "    return cit\n",
    "\n",
    "\n",
    "def choice_ind(U_i,mu_U_i, Sigma_U_i,T,N):\n",
    "    C_iT = []\n",
    "    for t in range(T):\n",
    "        mu_Uit = mu_U_i\n",
    "        c_it = choice(C_iT,mu_Uit)\n",
    "        C_iT = C_iT + [c_it]\n",
    "        mu_Uit = update_Ui(C_iT,U_i,mu_U_i, Sigma_U_i)\n",
    "    return C_iT\n",
    "\n",
    "\n",
    "def simulation_no_rec(N,T,sigma,sigma_i,sigma_ibar,rho,rho_i,rho_ibar,beta,nr_pop,nr_ind):\n",
    "    Nset = range(0,N)\n",
    "    C_list = []\n",
    "    for it_pop in range(nr_pop):\n",
    "        \n",
    "        Sigma_V = cov_mat_fun(sigma,rho,N)\n",
    "        mu_V = np.zeros(N)\n",
    "        V = np.random.multivariate_normal(mu_V, Sigma_V)\n",
    "        mu_V.reshape((1,N))\n",
    "        \n",
    "        C_pop = []\n",
    "        \n",
    "        Sigma_V_i = cov_mat_fun(sigma_i,rho_i,N)\n",
    "        Sigma_V_ibar = cov_mat_fun(sigma_ibar,rho_ibar,N)\n",
    "        for it_ind in range(nr_ind):\n",
    "            mu_V_ibar = np.zeros(N)\n",
    "            V_ibar = np.random.multivariate_normal(np.zeros(N), Sigma_V_ibar)\n",
    "            \n",
    "            mu_V_i = V_ibar\n",
    "            mu_V_i = np.zeros(N)\n",
    "        \n",
    "            V_i = np.random.multivariate_normal(mu_V_i, Sigma_V_i)\n",
    "            mu_V_ibar.reshape((1,N))\n",
    "            mu_V_i.reshape((1,N))\n",
    "            \n",
    "            U_i = beta * V_i + (1-beta) * V\n",
    "\n",
    "            mu_U_i = beta * V_ibar + (1-beta) * np.zeros(N)\n",
    "            Sigma_U_i = beta**2 * Sigma_V_ibar + (1-beta)**2 * Sigma_V\n",
    "            \n",
    "            C_iT = choice_ind(U_i,mu_U_i, Sigma_U_i,T,N)\n",
    "            C_pop = C_pop + [C_iT]\n",
    "        C_list = C_list + [C_pop]\n",
    "    return C_list"
   ]
  },
  {
   "cell_type": "code",
   "execution_count": 23,
   "metadata": {},
   "outputs": [
    {
     "data": {
      "text/plain": [
       "[[[0, 1], [0, 1]], [[0, 1], [0, 1]]]"
      ]
     },
     "execution_count": 23,
     "metadata": {},
     "output_type": "execute_result"
    }
   ],
   "source": [
    "simulation_no_rec(N,T,sigma,sigma_i,sigma_ibar,rho,rho_i,rho_ibar,beta,nr_pop,nr_ind)\n",
    "\n"
   ]
  },
  {
   "cell_type": "code",
   "execution_count": 93,
   "metadata": {},
   "outputs": [
    {
     "ename": "NameError",
     "evalue": "name 'Ui' is not defined",
     "output_type": "error",
     "traceback": [
      "\u001b[1;31m---------------------------------------------------------------------------\u001b[0m",
      "\u001b[1;31mNameError\u001b[0m                                 Traceback (most recent call last)",
      "\u001b[1;32m<ipython-input-93-4c8b44ad0b9f>\u001b[0m in \u001b[0;36m<module>\u001b[1;34m()\u001b[0m\n\u001b[0;32m     39\u001b[0m         \u001b[0mSigma12\u001b[0m\u001b[1;33m[\u001b[0m\u001b[0mi\u001b[0m\u001b[1;33m,\u001b[0m\u001b[0mj\u001b[0m\u001b[1;33m]\u001b[0m \u001b[1;33m=\u001b[0m \u001b[0mSigma_U_i\u001b[0m\u001b[1;33m[\u001b[0m\u001b[0mCit\u001b[0m\u001b[1;33m[\u001b[0m\u001b[0mi\u001b[0m\u001b[1;33m]\u001b[0m\u001b[1;33m,\u001b[0m\u001b[0mNit\u001b[0m\u001b[1;33m[\u001b[0m\u001b[0mj\u001b[0m\u001b[1;33m]\u001b[0m\u001b[1;33m]\u001b[0m\u001b[1;33m\u001b[0m\u001b[0m\n\u001b[0;32m     40\u001b[0m \u001b[0mSigma21\u001b[0m \u001b[1;33m=\u001b[0m \u001b[0mnp\u001b[0m\u001b[1;33m.\u001b[0m\u001b[0mtranspose\u001b[0m\u001b[1;33m(\u001b[0m\u001b[0mSigma12\u001b[0m\u001b[1;33m)\u001b[0m\u001b[1;33m\u001b[0m\u001b[0m\n\u001b[1;32m---> 41\u001b[1;33m \u001b[0ma\u001b[0m \u001b[1;33m=\u001b[0m \u001b[0mnp\u001b[0m\u001b[1;33m.\u001b[0m\u001b[0marray\u001b[0m\u001b[1;33m(\u001b[0m\u001b[1;33m[\u001b[0m\u001b[0mUi\u001b[0m\u001b[1;33m[\u001b[0m\u001b[0mn\u001b[0m\u001b[1;33m]\u001b[0m \u001b[1;32mfor\u001b[0m \u001b[0mn\u001b[0m \u001b[1;32min\u001b[0m \u001b[0mx1\u001b[0m\u001b[1;33m]\u001b[0m\u001b[1;33m)\u001b[0m\u001b[1;33m.\u001b[0m\u001b[0mreshape\u001b[0m\u001b[1;33m(\u001b[0m\u001b[1;33m(\u001b[0m\u001b[1;36m1\u001b[0m\u001b[1;33m,\u001b[0m\u001b[0mlen\u001b[0m\u001b[1;33m(\u001b[0m\u001b[0mx1\u001b[0m\u001b[1;33m)\u001b[0m\u001b[1;33m)\u001b[0m\u001b[1;33m)\u001b[0m\u001b[1;33m\u001b[0m\u001b[0m\n\u001b[0m\u001b[0;32m     42\u001b[0m \u001b[0mmubar\u001b[0m \u001b[1;33m=\u001b[0m \u001b[0mmu2\u001b[0m \u001b[1;33m+\u001b[0m \u001b[0mnp\u001b[0m\u001b[1;33m.\u001b[0m\u001b[0mmatmul\u001b[0m\u001b[1;33m(\u001b[0m\u001b[0mnp\u001b[0m\u001b[1;33m.\u001b[0m\u001b[0mmatmul\u001b[0m\u001b[1;33m(\u001b[0m\u001b[0mSigma21\u001b[0m\u001b[1;33m,\u001b[0m \u001b[0mnp\u001b[0m\u001b[1;33m.\u001b[0m\u001b[0mlinalg\u001b[0m\u001b[1;33m.\u001b[0m\u001b[0minv\u001b[0m\u001b[1;33m(\u001b[0m\u001b[0mSigma11\u001b[0m\u001b[1;33m)\u001b[0m\u001b[1;33m)\u001b[0m\u001b[1;33m,\u001b[0m\u001b[1;33m(\u001b[0m\u001b[0ma\u001b[0m\u001b[1;33m-\u001b[0m\u001b[0mmu1\u001b[0m\u001b[1;33m)\u001b[0m\u001b[1;33m.\u001b[0m\u001b[0mT\u001b[0m\u001b[1;33m)\u001b[0m\u001b[1;33m\u001b[0m\u001b[0m\n",
      "\u001b[1;32m<ipython-input-93-4c8b44ad0b9f>\u001b[0m in \u001b[0;36m<listcomp>\u001b[1;34m(.0)\u001b[0m\n\u001b[0;32m     39\u001b[0m         \u001b[0mSigma12\u001b[0m\u001b[1;33m[\u001b[0m\u001b[0mi\u001b[0m\u001b[1;33m,\u001b[0m\u001b[0mj\u001b[0m\u001b[1;33m]\u001b[0m \u001b[1;33m=\u001b[0m \u001b[0mSigma_U_i\u001b[0m\u001b[1;33m[\u001b[0m\u001b[0mCit\u001b[0m\u001b[1;33m[\u001b[0m\u001b[0mi\u001b[0m\u001b[1;33m]\u001b[0m\u001b[1;33m,\u001b[0m\u001b[0mNit\u001b[0m\u001b[1;33m[\u001b[0m\u001b[0mj\u001b[0m\u001b[1;33m]\u001b[0m\u001b[1;33m]\u001b[0m\u001b[1;33m\u001b[0m\u001b[0m\n\u001b[0;32m     40\u001b[0m \u001b[0mSigma21\u001b[0m \u001b[1;33m=\u001b[0m \u001b[0mnp\u001b[0m\u001b[1;33m.\u001b[0m\u001b[0mtranspose\u001b[0m\u001b[1;33m(\u001b[0m\u001b[0mSigma12\u001b[0m\u001b[1;33m)\u001b[0m\u001b[1;33m\u001b[0m\u001b[0m\n\u001b[1;32m---> 41\u001b[1;33m \u001b[0ma\u001b[0m \u001b[1;33m=\u001b[0m \u001b[0mnp\u001b[0m\u001b[1;33m.\u001b[0m\u001b[0marray\u001b[0m\u001b[1;33m(\u001b[0m\u001b[1;33m[\u001b[0m\u001b[0mUi\u001b[0m\u001b[1;33m[\u001b[0m\u001b[0mn\u001b[0m\u001b[1;33m]\u001b[0m \u001b[1;32mfor\u001b[0m \u001b[0mn\u001b[0m \u001b[1;32min\u001b[0m \u001b[0mx1\u001b[0m\u001b[1;33m]\u001b[0m\u001b[1;33m)\u001b[0m\u001b[1;33m.\u001b[0m\u001b[0mreshape\u001b[0m\u001b[1;33m(\u001b[0m\u001b[1;33m(\u001b[0m\u001b[1;36m1\u001b[0m\u001b[1;33m,\u001b[0m\u001b[0mlen\u001b[0m\u001b[1;33m(\u001b[0m\u001b[0mx1\u001b[0m\u001b[1;33m)\u001b[0m\u001b[1;33m)\u001b[0m\u001b[1;33m)\u001b[0m\u001b[1;33m\u001b[0m\u001b[0m\n\u001b[0m\u001b[0;32m     42\u001b[0m \u001b[0mmubar\u001b[0m \u001b[1;33m=\u001b[0m \u001b[0mmu2\u001b[0m \u001b[1;33m+\u001b[0m \u001b[0mnp\u001b[0m\u001b[1;33m.\u001b[0m\u001b[0mmatmul\u001b[0m\u001b[1;33m(\u001b[0m\u001b[0mnp\u001b[0m\u001b[1;33m.\u001b[0m\u001b[0mmatmul\u001b[0m\u001b[1;33m(\u001b[0m\u001b[0mSigma21\u001b[0m\u001b[1;33m,\u001b[0m \u001b[0mnp\u001b[0m\u001b[1;33m.\u001b[0m\u001b[0mlinalg\u001b[0m\u001b[1;33m.\u001b[0m\u001b[0minv\u001b[0m\u001b[1;33m(\u001b[0m\u001b[0mSigma11\u001b[0m\u001b[1;33m)\u001b[0m\u001b[1;33m)\u001b[0m\u001b[1;33m,\u001b[0m\u001b[1;33m(\u001b[0m\u001b[0ma\u001b[0m\u001b[1;33m-\u001b[0m\u001b[0mmu1\u001b[0m\u001b[1;33m)\u001b[0m\u001b[1;33m.\u001b[0m\u001b[0mT\u001b[0m\u001b[1;33m)\u001b[0m\u001b[1;33m\u001b[0m\u001b[0m\n",
      "\u001b[1;31mNameError\u001b[0m: name 'Ui' is not defined"
     ]
    }
   ],
   "source": [
    "Sigma_V = cov_mat_fun(sigma,rho,N)\n",
    "mu_V = np.zeros(N)\n",
    "V = np.random.multivariate_normal(mu_V, Sigma_V)\n",
    "mu_V.reshape((1,N))\n",
    "\n",
    "Sigma_V_ibar = cov_mat_fun(sigma_ibar,rho_ibar,N)\n",
    "mu_V_ibar = np.zeros(N)\n",
    "V_ibar = np.random.multivariate_normal(np.zeros(N), Sigma_V_ibar)\n",
    "\n",
    "\n",
    "Sigma_V_i = cov_mat_fun(sigma_i,rho_i,N)\n",
    "mu_V_i = V_ibar\n",
    "V_i = np.random.multivariate_normal(mu_V_i, Sigma_V_i)\n",
    "mu_V_ibar.reshape((1,N))\n",
    "mu_V_i.reshape((1,N))\n",
    "\n",
    "U_i = beta * V_i + (1-beta) * V\n",
    "\n",
    "mu_U_i = beta * V_ibar + (1-beta) * np.zeros(N)\n",
    "Sigma_U_i = beta**2 * Sigma_V_ibar + (1-beta)**2 * Sigma_V\n",
    "\n",
    "Cit = [1]\n",
    "x1 = [Cit]\n",
    "x2 = [n for n in Nset if n not in Cit]\n",
    "Nit = [n for n in Nset if n not in Cit]\n",
    "mu1 = np.array([mu_U_i[n] for n in x1]).reshape((1,len(x1)))\n",
    "mu2 = np.array([mu_U_i[n] for n in x2]).reshape((1,len(x2)))\n",
    "Sigma11 = np.ones((len(x1),len(x1)))\n",
    "Sigma22 = np.ones((len(x2),len(x2)))\n",
    "Sigma12 = np.ones((len(x1),len(x2)))\n",
    "for i in range(len(Cit)):\n",
    "    for j in range(len(Cit)):\n",
    "        Sigma11[i,j] = Sigma_U_i[Cit[i],Cit[j]]\n",
    "for i in range(len(Nit)):\n",
    "    for j in range(len(Nit)):\n",
    "        Sigma22[i,j] = Sigma_U_i[Nit[i],Nit[j]]\n",
    "for i in range(len(Cit)):\n",
    "    for j in range(len(Nit)):\n",
    "        Sigma12[i,j] = Sigma_U_i[Cit[i],Nit[j]]\n",
    "Sigma21 = np.transpose(Sigma12)\n",
    "a = np.array([Ui[n] for n in x1]).reshape((1,len(x1)))\n",
    "mubar = mu2 + np.matmul(np.matmul(Sigma21, np.linalg.inv(Sigma11)),(a-mu1).T)"
   ]
  },
  {
   "cell_type": "code",
   "execution_count": 31,
   "metadata": {},
   "outputs": [
    {
     "name": "stdout",
     "output_type": "stream",
     "text": [
      "[[1.   0.5  0.25 0.5 ]\n",
      " [0.5  1.   0.5  0.25]\n",
      " [0.25 0.5  1.   0.5 ]\n",
      " [0.5  0.25 0.5  1.  ]]\n"
     ]
    },
    {
     "data": {
      "text/plain": [
       "0.31640625000000006"
      ]
     },
     "execution_count": 31,
     "metadata": {},
     "output_type": "execute_result"
    }
   ],
   "source": [
    "print(cov_mat_fun(sigma,rho,N))\n",
    "np.linalg.det(cov_mat_fun(sigma,rho,N))"
   ]
  },
  {
   "cell_type": "code",
   "execution_count": 34,
   "metadata": {},
   "outputs": [
    {
     "data": {
      "text/plain": [
       "[0, 1, 3]"
      ]
     },
     "execution_count": 34,
     "metadata": {},
     "output_type": "execute_result"
    }
   ],
   "source": [
    "Cit = [2]\n",
    "[n for n in Nset if n not in Cit]"
   ]
  },
  {
   "cell_type": "code",
   "execution_count": 44,
   "metadata": {},
   "outputs": [],
   "source": [
    "A=np.array( [[1,2],[2,3],[3,4]] )\n",
    "\n",
    "B=np.array( [[1,2,3],[2,3,4]] )\n",
    "\n",
    "a = np.random.multivariate_normal(np.zeros(3), np.eye(3)).reshape((1,3))"
   ]
  },
  {
   "cell_type": "code",
   "execution_count": 50,
   "metadata": {},
   "outputs": [
    {
     "data": {
      "text/plain": [
       "array([ -7.13897569, -11.2901686 , -15.44136151])"
      ]
     },
     "execution_count": 50,
     "metadata": {},
     "output_type": "execute_result"
    }
   ],
   "source": [
    "np.matmul(np.matmul(A,B),(a.T))"
   ]
  },
  {
   "cell_type": "code",
   "execution_count": 47,
   "metadata": {},
   "outputs": [
    {
     "data": {
      "text/plain": [
       "array([[-2.11281811, -0.08407157,  0.37251704]])"
      ]
     },
     "execution_count": 47,
     "metadata": {},
     "output_type": "execute_result"
    }
   ],
   "source": [
    "a.reshape((1,3))"
   ]
  },
  {
   "cell_type": "code",
   "execution_count": null,
   "metadata": {},
   "outputs": [],
   "source": [
    "cit = x2[np.argmax([mu[i] for i in x2])]"
   ]
  }
 ],
 "metadata": {
  "kernelspec": {
   "display_name": "Python 3",
   "language": "python",
   "name": "python3"
  },
  "language_info": {
   "codemirror_mode": {
    "name": "ipython",
    "version": 3
   },
   "file_extension": ".py",
   "mimetype": "text/x-python",
   "name": "python",
   "nbconvert_exporter": "python",
   "pygments_lexer": "ipython3",
   "version": "3.7.3"
  }
 },
 "nbformat": 4,
 "nbformat_minor": 2
}
