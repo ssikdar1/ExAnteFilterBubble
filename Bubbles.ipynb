{
 "cells": [
  {
   "cell_type": "code",
   "execution_count": 7,
   "metadata": {},
   "outputs": [],
   "source": [
    "import random\n",
    "\n",
    "# number of goods\n",
    "N = 1000\n",
    "\n",
    "# number of goods to select in the simulation\n",
    "# T << N\n",
    "T = 100\n",
    "\n",
    "# init the utilities\n",
    "#u = [1 for i in range(N)]\n",
    "u = [0 for i in range(N)]\n",
    "\n",
    "# p ∈ (0, 1) \n",
    "p_0 = random.uniform(0,1)\n",
    "\n",
    "\n",
    "# δ ∈ (0, 1) strength of learning spillovers\n",
    "delta = .1\n",
    "\n",
    "# d d(i, j) represents the distance that good j is from the consumed item i.\n",
    "# so min number of hops on the circle\n",
    "def d(i,j):\n",
    "    return min(abs(i-j), abs(i-j-N))\n",
    "\n",
    "# update\n",
    "def update(i,j,p):\n",
    "    rt = u[i]\n",
    "    delta_d_ij = delta**d(i,j)    \n",
    "    p[j] = (1-delta_d_ij)* p[j] + delta_d_ij * rt\n",
    "\n",
    "def simulate(N, T, delta, p_0, u):\n",
    "    \n",
    "    p = [ p_0 for i in range(N)]\n",
    "    \n",
    "    # To keep track of what goods we chosen so far\n",
    "    items = [i for i in range(N)]\n",
    "\n",
    "    selections = []\n",
    "    for t in range(T):\n",
    "        #print(\"iterations: %d\" % t)\n",
    "        if t == 0:\n",
    "            # for the first iteration choose item N/2 \n",
    "            idx = N//2\n",
    "        else:\n",
    "            # after look for highest probability, skip over previously selected nodes\n",
    "            val, idx = max((val, idx) for (idx, val) in enumerate(p)if idx not in selections )\n",
    "\n",
    "        choice = items[idx]\n",
    "        selections.append(choice)\n",
    "        #print(\"chose item: %s \" % (choice))\n",
    "\n",
    "        # update beliefs\n",
    "        for p_idx in range(len(p)):\n",
    "            update(idx, p_idx, p)\n",
    "            \n",
    "    return selections\n"
   ]
  },
  {
   "cell_type": "code",
   "execution_count": 8,
   "metadata": {},
   "outputs": [
    {
     "name": "stdout",
     "output_type": "stream",
     "text": [
      "[12, 24, 41, 58, 75, 92, 109, 126, 143, 160, 177, 194, 211, 228, 245, 262, 279, 296, 305, 313, 322, 330, 339, 347, 356, 364, 373, 381, 390, 398, 407, 415, 424, 432, 441, 449, 458, 466, 475, 483, 492, 500, 512, 523, 532, 540, 549, 557, 566, 574, 583, 591, 600, 608, 617, 625, 634, 642, 651, 659, 668, 676, 685, 693, 702, 710, 719, 727, 736, 744, 753, 761, 770, 778, 787, 795, 804, 812, 821, 829, 838, 846, 855, 863, 872, 880, 889, 897, 906, 914, 923, 931, 940, 948, 957, 965, 974, 982, 991, 999]\n"
     ]
    }
   ],
   "source": [
    "selections = simulate(N, T, delta, p_0, u)\n",
    "print(sorted(selections))\n",
    "import json\n",
    "with open('utility0.json', 'w') as outfile:\n",
    "    json.dump(sorted(selections), outfile)"
   ]
  },
  {
   "cell_type": "code",
   "execution_count": 17,
   "metadata": {},
   "outputs": [],
   "source": []
  },
  {
   "cell_type": "code",
   "execution_count": null,
   "metadata": {},
   "outputs": [],
   "source": [
    "d(20,1)\n",
    "d(20,2)\n",
    "d(19,20)\n",
    "d(18,2)\n",
    "d(8,12)"
   ]
  }
 ],
 "metadata": {
  "kernelspec": {
   "display_name": "Python 3",
   "language": "python",
   "name": "python3"
  },
  "language_info": {
   "codemirror_mode": {
    "name": "ipython",
    "version": 3
   },
   "file_extension": ".py",
   "mimetype": "text/x-python",
   "name": "python",
   "nbconvert_exporter": "python",
   "pygments_lexer": "ipython3",
   "version": "3.7.3"
  }
 },
 "nbformat": 4,
 "nbformat_minor": 2
}
