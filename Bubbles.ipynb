{
 "cells": [
  {
   "cell_type": "code",
   "execution_count": 12,
   "metadata": {},
   "outputs": [],
   "source": [
    "import random\n",
    "\n",
    "# number of goods\n",
    "N = 1000\n",
    "\n",
    "# number of goods to select in the simulation\n",
    "# T << N\n",
    "T = 100\n",
    "\n",
    "# init the utilities\n",
    "u = [1 for i in range(N)]\n",
    "#u = [0 for i in range(N)]\n",
    "\n",
    "# p ∈ (0, 1) \n",
    "p = [random.uniform(0,1) for i in range(N)]\n",
    "\n",
    "# To keep track of what goods we chosen so far\n",
    "items = [i for i in range(N)]\n",
    "\n",
    "selections = []\n",
    "\n",
    "# δ ∈ (0, 1) strength of learning spillovers\n",
    "delta = .1\n",
    "\n",
    "# d d(i, j) represents the distance that good j is from the consumed item i.\n",
    "# so min number of hops on the circle\n",
    "def d(i,j):\n",
    "    return min(abs(i-j), abs(i-j-N))\n",
    "\n",
    "# update\n",
    "def update(i,j):\n",
    "    rt = u[i]\n",
    "    delta_d_ij = delta**d(i,j)\n",
    "    \n",
    "    p[j] = (1-delta_d_ij)* p[j] + delta_d_ij * rt\n",
    "\n",
    "for t in range(T):\n",
    "    #print(\"iterations: %d\" % t)\n",
    "    if t == 0:\n",
    "        # for the first iteration choose item N/2 \n",
    "        idx = N//2\n",
    "    else:\n",
    "        # after look for highest probability, skip over previously selected nodes\n",
    "        val, idx = max((val, idx) for (idx, val) in enumerate(p)if idx not in selections )\n",
    "    \n",
    "    choice = items[idx]\n",
    "    selections.append(choice)\n",
    "    #print(\"chose item: %s \" % (choice))\n",
    "    \n",
    "    # update beliefs\n",
    "    for p_idx in range(len(p)):\n",
    "        update(idx, p_idx)\n"
   ]
  },
  {
   "cell_type": "code",
   "execution_count": 13,
   "metadata": {},
   "outputs": [
    {
     "name": "stdout",
     "output_type": "stream",
     "text": [
      "[6, 18, 20, 35, 49, 76, 131, 150, 152, 163, 165, 173, 177, 185, 186, 193, 203, 209, 210, 236, 239, 242, 244, 246, 249, 250, 278, 279, 281, 298, 309, 310, 338, 345, 358, 363, 376, 378, 382, 383, 385, 387, 392, 399, 400, 407, 425, 441, 479, 480, 495, 499, 500, 510, 512, 542, 543, 602, 604, 607, 608, 612, 621, 622, 629, 674, 680, 685, 686, 693, 710, 723, 724, 744, 760, 768, 769, 770, 772, 773, 791, 818, 824, 829, 832, 839, 840, 841, 855, 895, 896, 903, 914, 916, 923, 954, 960, 967, 973, 980]\n"
     ]
    }
   ],
   "source": [
    "print(sorted(selections))"
   ]
  },
  {
   "cell_type": "code",
   "execution_count": 14,
   "metadata": {},
   "outputs": [],
   "source": [
    "import json\n",
    "with open('utility1.json', 'w') as outfile:\n",
    "    json.dump(sorted(selections), outfile)"
   ]
  },
  {
   "cell_type": "code",
   "execution_count": null,
   "metadata": {},
   "outputs": [],
   "source": [
    "d(20,1)\n",
    "d(20,2)\n",
    "d(19,20)\n",
    "d(18,2)\n",
    "d(8,12)"
   ]
  }
 ],
 "metadata": {
  "kernelspec": {
   "display_name": "Python 3",
   "language": "python",
   "name": "python3"
  },
  "language_info": {
   "codemirror_mode": {
    "name": "ipython",
    "version": 3
   },
   "file_extension": ".py",
   "mimetype": "text/x-python",
   "name": "python",
   "nbconvert_exporter": "python",
   "pygments_lexer": "ipython3",
   "version": "3.7.3"
  }
 },
 "nbformat": 4,
 "nbformat_minor": 2
}
